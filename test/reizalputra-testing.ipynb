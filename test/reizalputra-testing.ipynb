{
 "cells": [
  {
   "cell_type": "code",
   "execution_count": 1,
   "metadata": {},
   "outputs": [
    {
     "name": "stdout",
     "output_type": "stream",
     "text": [
      "hasil prediksi: fear\n"
     ]
    }
   ],
   "source": [
    "import tensorflow as tf\n",
    "import json\n",
    "import base64\n",
    "import numpy as np\n",
    "import requests\n",
    "\n",
    "\n",
    "def prepare_example(text):\n",
    "    # Define the features of your data\n",
    "    feature = {\n",
    "        \"text\": tf.train.Feature(bytes_list=tf.train.BytesList(value=[text.encode()]))\n",
    "    }\n",
    "\n",
    "    # Create an Example\n",
    "    example = tf.train.Example(features=tf.train.Features(feature=feature))\n",
    "\n",
    "    # Serialize the Example to a string\n",
    "    example_str = example.SerializeToString()\n",
    "\n",
    "    # Prepare the JSON data\n",
    "    json_data = {\n",
    "        \"signature_name\": \"serving_default\",\n",
    "        \"instances\": [{\"b64\": base64.b64encode(example_str).decode()}]\n",
    "    }\n",
    "\n",
    "    return json.dumps(json_data)\n",
    "\n",
    "json_data = prepare_example('i gave up my internship with the dmrg and am feeling distraught')\n",
    "\n",
    "endpoint = \"http://localhost:8080/v1/models/emotion-detection-model:predict\"\n",
    "response = requests.post(endpoint, data=json_data)\n",
    "\n",
    "if response.status_code == 200:\n",
    "    prediction = response.json().get(\"predictions\")\n",
    "    if prediction:\n",
    "        prediction_class = np.argmax(prediction)  # Ambil kelas dengan nilai probabilitas tertinggi\n",
    "        # Konversi kelas menjadi label sesuai dengan informasi kelas yang diberikan\n",
    "        labels = {0: 'sadness', 1: 'joy', 2: 'love', 3: 'anger', 4: 'fear', 5: 'surprise'}\n",
    "        predicted_label = labels.get(prediction_class, \"Unknown\")\n",
    "        result = f\"hasil prediksi: {predicted_label}\"\n",
    "    else:\n",
    "        result = \"Error: No predictions found in response.\"\n",
    "else:\n",
    "    result = \"Error: Model prediction failed.\"\n",
    "\n",
    "print(result)\n"
   ]
  }
 ],
 "metadata": {
  "kernelspec": {
   "display_name": "mlops-tfx",
   "language": "python",
   "name": "python3"
  },
  "language_info": {
   "codemirror_mode": {
    "name": "ipython",
    "version": 3
   },
   "file_extension": ".py",
   "mimetype": "text/x-python",
   "name": "python",
   "nbconvert_exporter": "python",
   "pygments_lexer": "ipython3",
   "version": "3.9.19"
  }
 },
 "nbformat": 4,
 "nbformat_minor": 2
}
